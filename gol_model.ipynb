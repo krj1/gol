{
 "cells": [
  {
   "cell_type": "code",
   "execution_count": 28,
   "metadata": {},
   "outputs": [],
   "source": [
    "import matplotlib.pyplot as plt\n",
    "import numpy as np\n",
    "import pickle\n",
    "from random import randrange\n",
    "\n",
    "def seeed():\n",
    "    return\n",
    "\n",
    "imgArray = []\n",
    "for p in range(0,10):\n",
    "    y = []\n",
    "    for i in range(0,10):\n",
    "        x = []\n",
    "        for j in range(0,10):\n",
    "            if randrange(2) == 1:\n",
    "                x.append(1)\n",
    "            else:\n",
    "                x.append(2)\n",
    "        y.append(x)\n",
    "    imgArray.append(y)\n",
    "    \n",
    "pickle_out = open(\"imgArray.pickle\",\"wb\") \n",
    "pickle.dump(imgArray, pickle_out)\n",
    "pickle_out.close()"
   ]
  },
  {
   "cell_type": "code",
   "execution_count": null,
   "metadata": {},
   "outputs": [],
   "source": []
  }
 ],
 "metadata": {
  "kernelspec": {
   "display_name": "Python 3",
   "language": "python",
   "name": "python3"
  },
  "language_info": {
   "codemirror_mode": {
    "name": "ipython",
    "version": 3
   },
   "file_extension": ".py",
   "mimetype": "text/x-python",
   "name": "python",
   "nbconvert_exporter": "python",
   "pygments_lexer": "ipython3",
   "version": "3.7.9"
  }
 },
 "nbformat": 4,
 "nbformat_minor": 4
}
