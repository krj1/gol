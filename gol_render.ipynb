{
 "cells": [
  {
   "cell_type": "code",
   "execution_count": 1,
   "metadata": {},
   "outputs": [
    {
     "name": "stdout",
     "output_type": "stream",
     "text": [
      "what video version are you on?\n",
      "1\n"
     ]
    }
   ],
   "source": [
    "print(\"what video version are you on?\")\n",
    "version = input()\n",
    "version = float(version)"
   ]
  },
  {
   "cell_type": "code",
   "execution_count": 9,
   "metadata": {
    "scrolled": false
   },
   "outputs": [
    {
     "name": "stdout",
     "output_type": "stream",
     "text": [
      "\n",
      "do you whant to save this run as a vedeo? if so then input 1 if not input anything else.\n",
      "45\n"
     ]
    }
   ],
   "source": [
    "import matplotlib.pyplot as plt\n",
    "import numpy as np\n",
    "from random import randrange\n",
    "import pickle\n",
    "import glob\n",
    "import cv2\n",
    "import os\n",
    "\n",
    "imgArray = pickle.load(open(\"imgArray.pickle\", \"rb\"))\n",
    "imgArray = np.array(imgArray)\n",
    "#print(imgArray)\n",
    "print(\"\")\n",
    "\n",
    "def resize(resizeMult):\n",
    "    finalImg = []\n",
    "    for i in range(0,imgArray.shape[0]): # this iterates through each image\n",
    "        newImgArray = []\n",
    "        for j in range(imgArray.shape[1]):\n",
    "            cache = []\n",
    "            for k in range(imgArray.shape[2]): #this this iterates though each pixel\n",
    "                tempImgArray = []\n",
    "                for l in range(resizeMult): #this creates a multipule of each pixel\n",
    "                    tempImgArray.append(imgArray[i,j,k])\n",
    "                    #print(imgArray[i,j,k])\n",
    "                iteraterCount = np.array(tempImgArray)\n",
    "                for o in range(iteraterCount.shape[0]): #this loop joins cache and tempImgArray without making +1 dimention\n",
    "                    cache.append(tempImgArray[0])\n",
    "            #print(cache)\n",
    "\n",
    "            for m in range(resizeMult): #this loop makes the duplicate row\n",
    "                newImgArray.append(cache)\n",
    "        #print(newImgArray)\n",
    "        #print(\"break\")\n",
    "        finalImg.append(newImgArray)\n",
    "    finalImg = np.array(finalImg)\n",
    "    return finalImg\n",
    "#print(resize(4))\n",
    "for i in range(imgArray.shape[0]):\n",
    "    plt.imsave('imgCache/testpic-{}.jpg'.format(i), resize(100)[i], cmap='gray')\n",
    "\n",
    "img_array = []\n",
    "for filename in glob.glob('imgCache/*.jpg'):\n",
    "    img = cv2.imread(filename)\n",
    "    height, width, layers = img.shape\n",
    "    size = (width,height)\n",
    "    img_array.append(img)\n",
    "\n",
    "print(\"do you whant to save this run as a vedeo? if so then input 1 if not input anything else.\")\n",
    "go = input() #change to save vedeo outputs\n",
    "if go == '1':\n",
    "    out = cv2.VideoWriter('golvid_{}.avi'.format(version),cv2.VideoWriter_fourcc(*'DIVX'), 2, size)\n",
    "    version += 1\n",
    "    \n",
    "    for i in range(len(img_array)):\n",
    "        out.write(img_array[i])\n",
    "    out.release()"
   ]
  },
  {
   "cell_type": "code",
   "execution_count": null,
   "metadata": {},
   "outputs": [],
   "source": []
  }
 ],
 "metadata": {
  "kernelspec": {
   "display_name": "Python 3",
   "language": "python",
   "name": "python3"
  },
  "language_info": {
   "codemirror_mode": {
    "name": "ipython",
    "version": 3
   },
   "file_extension": ".py",
   "mimetype": "text/x-python",
   "name": "python",
   "nbconvert_exporter": "python",
   "pygments_lexer": "ipython3",
   "version": "3.7.9"
  }
 },
 "nbformat": 4,
 "nbformat_minor": 4
}
