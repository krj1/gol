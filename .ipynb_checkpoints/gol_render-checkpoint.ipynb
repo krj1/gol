{
 "cells": [
  {
   "cell_type": "code",
   "execution_count": 1,
   "metadata": {},
   "outputs": [
    {
     "name": "stdout",
     "output_type": "stream",
     "text": [
      "what video version are you on?\n",
      "1\n"
     ]
    }
   ],
   "source": [
    "print(\"what video version are you on?\")\n",
    "version = input()\n",
    "version = float(version)"
   ]
  },
  {
   "cell_type": "code",
   "execution_count": 20,
   "metadata": {
    "scrolled": true
   },
   "outputs": [
    {
     "name": "stdout",
     "output_type": "stream",
     "text": [
      "[[[2 1]\n",
      "  [2 2]]\n",
      "\n",
      " [[1 2]\n",
      "  [2 2]]]\n",
      "[[1, 2, 2, 2]]\n"
     ]
    }
   ],
   "source": [
    "import matplotlib.pyplot as plt\n",
    "import numpy as np\n",
    "from random import randrange\n",
    "import pickle\n",
    "import glob\n",
    "import cv2\n",
    "import os\n",
    "\n",
    "imgArray = pickle.load(open(\"imgArray.pickle\", \"rb\"))\n",
    "imgArray = np.array(imgArray)\n",
    "print(imgArray)\n",
    "\n",
    "def resize(resizeMult):\n",
    "    newImgArray = []\n",
    "    finalImg = []\n",
    "    for i in range(0,imgArray.shape[0]): # this iterates through each image\n",
    "        tempImgArray = []\n",
    "        for j in range(imgArray.shape[1]):\n",
    "            for k in range(imgArray.shape[2]): #this this iterates though each pixel\n",
    "                for l in range(resizeMult): #this creates a multipule of each pixel\n",
    "                    tempImgArray.append(imgArray[i,j,k]) \n",
    "            #newImgArray.append(tempImgArray)\n",
    "    finalImg.append(tempImgArray)\n",
    "    return finalImg\n",
    "\n",
    "print(resize(1))\n",
    "for i in range(imgArray.shape[0]):\n",
    "    plt.imsave('imgCache/testpic-{}.jpg'.format(i), imgArray[i], cmap='gray')\n",
    "\n",
    "img_array = []\n",
    "for filename in glob.glob('imgCache/*.jpg'):\n",
    "    img = cv2.imread(filename)\n",
    "    height, width, layers = img.shape\n",
    "    size = (width,height)\n",
    "    img_array.append(img)\n",
    "\n",
    "#print(\"do you whant to save this run as a vedeo? if so then input 1 if not input anything else.\")\n",
    "go = 0 #input() #change to save vedeo outputs\n",
    "if go == 1:\n",
    "    out = cv2.VideoWriter('golvid_{}.avi'.format(version),cv2.VideoWriter_fourcc(*'DIVX'), 2, size)\n",
    "    version += 1\n",
    "    \n",
    "    for i in range(len(img_array)):\n",
    "        out.write(img_array[i])\n",
    "    out.release()"
   ]
  },
  {
   "cell_type": "code",
   "execution_count": 16,
   "metadata": {},
   "outputs": [
    {
     "name": "stdout",
     "output_type": "stream",
     "text": [
      "2\n"
     ]
    }
   ],
   "source": [
    "imgArray = np.array(imgArray)\n",
    "print(imgArray[0,0,0])"
   ]
  },
  {
   "cell_type": "code",
   "execution_count": null,
   "metadata": {},
   "outputs": [],
   "source": [
    "[2,2,1,1],"
   ]
  }
 ],
 "metadata": {
  "kernelspec": {
   "display_name": "Python 3",
   "language": "python",
   "name": "python3"
  },
  "language_info": {
   "codemirror_mode": {
    "name": "ipython",
    "version": 3
   },
   "file_extension": ".py",
   "mimetype": "text/x-python",
   "name": "python",
   "nbconvert_exporter": "python",
   "pygments_lexer": "ipython3",
   "version": "3.7.9"
  }
 },
 "nbformat": 4,
 "nbformat_minor": 4
}
